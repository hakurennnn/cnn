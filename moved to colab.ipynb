{
  "cells": [
    {
      "cell_type": "markdown",
      "metadata": {
        "id": "view-in-github",
        "colab_type": "text"
      },
      "source": [
        "<a href=\"https://colab.research.google.com/github/hakurennnn/cnn/blob/master/moved%20to%20colab.ipynb\" target=\"_parent\"><img src=\"https://colab.research.google.com/assets/colab-badge.svg\" alt=\"Open In Colab\"/></a>"
      ]
    },
    {
      "cell_type": "code",
      "execution_count": 1,
      "metadata": {
        "id": "t0X5BTUZ5haq"
      },
      "outputs": [],
      "source": [
        "import cv2\n",
        "import os"
      ]
    },
    {
      "cell_type": "code",
      "execution_count": 2,
      "metadata": {
        "id": "-OhSfWMS5har"
      },
      "outputs": [],
      "source": [
        "import numpy as np\n",
        "import pandas as pd \n",
        "import matplotlib.pyplot as plt\n",
        "import seaborn as sns\n",
        "import keras\n",
        "import tensorflow as tf\n",
        "from keras.models import Sequential\n",
        "from keras.layers import Dense, Conv2D , MaxPool2D , Flatten , Dropout , BatchNormalization\n",
        "from keras.preprocessing.image import ImageDataGenerator\n",
        "from sklearn.model_selection import train_test_split\n",
        "from sklearn.metrics import classification_report,confusion_matrix\n",
        "from tensorflow.keras.callbacks import ModelCheckpoint\n",
        "from tensorflow.keras.callbacks import EarlyStopping\n",
        "from tensorflow.keras.optimizers import Adam\n",
        "import glob\n",
        "import imageio\n",
        "from keras.applications import densenet\n",
        "from tensorflow.keras import layers"
      ]
    },
    {
      "cell_type": "code",
      "source": [
        "from google.colab import drive\n",
        "drive.mount('/content/drive')"
      ],
      "metadata": {
        "colab": {
          "base_uri": "https://localhost:8080/"
        },
        "id": "zTB1YZ115v7v",
        "outputId": "f0705d50-4b6b-4b3c-c205-ecaf0f9f1c05"
      },
      "execution_count": 3,
      "outputs": [
        {
          "output_type": "stream",
          "name": "stdout",
          "text": [
            "Mounted at /content/drive\n"
          ]
        }
      ]
    },
    {
      "cell_type": "code",
      "execution_count": 4,
      "metadata": {
        "id": "HCQ3Rb5M5har"
      },
      "outputs": [],
      "source": [
        "\n",
        "## LOCAL RUN PATHS\n",
        "main_path = '/content/drive/MyDrive' #palitan ng main folder\n",
        "\n",
        "test_path = os.path.join(main_path,\"test\")\n",
        "train_path = os.path.join(main_path,\"train\")\n",
        "\n",
        "train_normal = glob.glob(train_path+\"/NORMAL/*.jpeg\")\n",
        "train_pneumonia = glob.glob(train_path+\"/PNEUMONIA/*.jpeg\")\n",
        "\n",
        "test_normal = glob.glob(test_path+\"/NORMAL/*.jpeg\")\n",
        "test_pneumonia = glob.glob(test_path+\"/PNEUMONIA/*.jpeg\")\n",
        "\n"
      ]
    },
    {
      "cell_type": "code",
      "execution_count": 5,
      "metadata": {
        "id": "LF8obHU_5has"
      },
      "outputs": [],
      "source": [
        "# combine train_normal and train_pneumonia\n",
        "train_list = train_normal + train_pneumonia\n",
        "test_list = test_normal + test_pneumonia\n",
        "\n",
        "df_train = pd.DataFrame({'class': ['Normal']*len(train_normal) + ['Pneumonia']*len(train_pneumonia),\n",
        "                         'image': train_list})\n",
        "\n",
        "df_test = pd.DataFrame({'class': ['Normal']*len(test_normal) + ['Pneumonia']*len(test_pneumonia),\n",
        "                        'image': test_list})\n"
      ]
    },
    {
      "cell_type": "code",
      "source": [
        "class_count = df_test['class'].value_counts()\n",
        "print(class_count)"
      ],
      "metadata": {
        "colab": {
          "base_uri": "https://localhost:8080/"
        },
        "id": "ezrqRI4B7rMN",
        "outputId": "7390624f-2ade-4829-e19f-af8a1032ffa8"
      },
      "execution_count": 6,
      "outputs": [
        {
          "output_type": "stream",
          "name": "stdout",
          "text": [
            "Pneumonia    390\n",
            "Normal       234\n",
            "Name: class, dtype: int64\n"
          ]
        }
      ]
    },
    {
      "cell_type": "code",
      "execution_count": 7,
      "metadata": {
        "colab": {
          "base_uri": "https://localhost:8080/"
        },
        "id": "FG7AJ82y5has",
        "outputId": "1549bef7-ce5c-48aa-cf29-19bc5641094c"
      },
      "outputs": [
        {
          "output_type": "stream",
          "name": "stdout",
          "text": [
            "          class                                              image\n",
            "0        Normal  /content/drive/MyDrive/train/NORMAL/NORMAL-324...\n",
            "1        Normal  /content/drive/MyDrive/train/NORMAL/NORMAL-337...\n",
            "2        Normal  /content/drive/MyDrive/train/NORMAL/NORMAL-327...\n",
            "3        Normal  /content/drive/MyDrive/train/NORMAL/NORMAL-337...\n",
            "4        Normal  /content/drive/MyDrive/train/NORMAL/NORMAL-352...\n",
            "...         ...                                                ...\n",
            "5227  Pneumonia  /content/drive/MyDrive/train/PNEUMONIA/BACTERI...\n",
            "5228  Pneumonia  /content/drive/MyDrive/train/PNEUMONIA/BACTERI...\n",
            "5229  Pneumonia  /content/drive/MyDrive/train/PNEUMONIA/BACTERI...\n",
            "5230  Pneumonia  /content/drive/MyDrive/train/PNEUMONIA/BACTERI...\n",
            "5231  Pneumonia  /content/drive/MyDrive/train/PNEUMONIA/BACTERI...\n",
            "\n",
            "[5232 rows x 2 columns]\n"
          ]
        }
      ],
      "source": [
        "print(df_train)"
      ]
    },
    {
      "cell_type": "code",
      "execution_count": 8,
      "metadata": {
        "colab": {
          "base_uri": "https://localhost:8080/"
        },
        "id": "TPV-cdT25hat",
        "outputId": "85b7f1c4-4fbb-4216-e704-82fb2a17a800"
      },
      "outputs": [
        {
          "output_type": "stream",
          "name": "stdout",
          "text": [
            "         class                                              image\n",
            "0       Normal  /content/drive/MyDrive/test/NORMAL/NORMAL-1141...\n",
            "1       Normal  /content/drive/MyDrive/test/NORMAL/NORMAL-1110...\n",
            "2       Normal  /content/drive/MyDrive/test/NORMAL/NORMAL-1160...\n",
            "3       Normal  /content/drive/MyDrive/test/NORMAL/NORMAL-1152...\n",
            "4       Normal  /content/drive/MyDrive/test/NORMAL/NORMAL-1212...\n",
            "..         ...                                                ...\n",
            "619  Pneumonia  /content/drive/MyDrive/test/PNEUMONIA/VIRUS-84...\n",
            "620  Pneumonia  /content/drive/MyDrive/test/PNEUMONIA/VIRUS-90...\n",
            "621  Pneumonia  /content/drive/MyDrive/test/PNEUMONIA/VIRUS-95...\n",
            "622  Pneumonia  /content/drive/MyDrive/test/PNEUMONIA/VIRUS-95...\n",
            "623  Pneumonia  /content/drive/MyDrive/test/PNEUMONIA/VIRUS-90...\n",
            "\n",
            "[624 rows x 2 columns]\n"
          ]
        }
      ],
      "source": [
        "print(df_test)"
      ]
    },
    {
      "cell_type": "markdown",
      "metadata": {
        "id": "HvYU4TQl5hat"
      },
      "source": [
        "# Creating the model"
      ]
    },
    {
      "cell_type": "code",
      "execution_count": 9,
      "metadata": {
        "id": "YDMH9Sdu5hat"
      },
      "outputs": [],
      "source": [
        "# Create validation set\n",
        "train_df, val_df = train_test_split(df_train, test_size = 0.20, random_state = 32, stratify = df_train['class'])"
      ]
    },
    {
      "cell_type": "code",
      "execution_count": 10,
      "metadata": {
        "id": "czguMeGj5hat"
      },
      "outputs": [],
      "source": [
        "batch = 32\n",
        "img_size = 224"
      ]
    },
    {
      "cell_type": "code",
      "execution_count": 11,
      "metadata": {
        "colab": {
          "base_uri": "https://localhost:8080/"
        },
        "id": "Ro6210nQ5hau",
        "outputId": "90fd8ff5-45a7-48ca-c20d-914f53ca9473"
      },
      "outputs": [
        {
          "output_type": "stream",
          "name": "stdout",
          "text": [
            "Found 4185 validated image filenames belonging to 2 classes.\n",
            "Found 1047 validated image filenames belonging to 2 classes.\n",
            "Found 624 validated image filenames belonging to 2 classes.\n"
          ]
        }
      ],
      "source": [
        "train_gen = ImageDataGenerator(rescale = 1./255,\n",
        "                               shear_range = 0.2,\n",
        "                               zoom_range = 0.2,\n",
        "                               vertical_flip = True)\n",
        "\n",
        "val_gen = ImageDataGenerator(rescale=1/255)\n",
        "\n",
        "ds_train = train_gen.flow_from_dataframe(train_df,\n",
        "                                             x_col = 'image',\n",
        "                                             y_col = 'class',\n",
        "                                             target_size = (img_size, img_size),\n",
        "                                             batch_size = batch,\n",
        "                                             class_mode = 'binary',\n",
        "                                             color_mode = 'grayscale'\n",
        "                                             )\n",
        "\n",
        "ds_val = val_gen.flow_from_dataframe(val_df,\n",
        "                                            #directory=train_path,\n",
        "                                            x_col = 'image',\n",
        "                                            y_col = 'class',\n",
        "                                            target_size = (img_size, img_size),\n",
        "                                            batch_size = batch,\n",
        "                                            class_mode = 'binary',\n",
        "                                            color_mode = 'grayscale')\n",
        "\n",
        "ds_test = val_gen.flow_from_dataframe(df_test,\n",
        "                                       x_col='image',\n",
        "                                       y_col='class',\n",
        "                                       target_size=(img_size, img_size),\n",
        "                                       batch_size=batch,\n",
        "                                       class_mode='binary',\n",
        "                                       color_mode='grayscale')"
      ]
    },
    {
      "cell_type": "code",
      "execution_count": 12,
      "metadata": {
        "id": "FoqmNixl5hav"
      },
      "outputs": [],
      "source": [
        "# Define early stopping\n",
        "early_stopping = EarlyStopping(monitor='val_loss', patience=10, verbose=1, mode='auto', restore_best_weights=True)"
      ]
    },
    {
      "cell_type": "code",
      "execution_count": 13,
      "metadata": {
        "id": "89YWwgqU5hav"
      },
      "outputs": [],
      "source": [
        "def predict_image(model, img_path, preprocess_input_fn, decode_predictions_fn, target_size=(img_size,img_size)):\n",
        "\n",
        "    img = tensorflow.keras.utils.load_img(img_path, target_size=target_size)\n",
        "    x = tensorflow.keras.utils.img_to_array(img)\n",
        "    x = np.expand_dims(x, axis=0)\n",
        "    x = preprocess_input_fn(x)\n",
        "    \n",
        "    preds = model.predict(x)\n",
        "    predictions_df = pd.DataFrame(decode_predictions_fn(preds, top=10)[0])\n",
        "    predictions_df.columns = [\"Predicted Class\", \"Name\", \"Probability\"]\n",
        "    return predictions_df"
      ]
    },
    {
      "cell_type": "code",
      "execution_count": 14,
      "metadata": {
        "id": "2g7X2ekn5hav"
      },
      "outputs": [],
      "source": [
        "pre_model = densenet.DenseNet121(weights=None,\n",
        "                                 include_top=False,\n",
        "                                 input_shape=(img_size, img_size, 1),\n",
        "                                 pooling='avg'\n",
        "                                )"
      ]
    },
    {
      "cell_type": "code",
      "execution_count": 15,
      "metadata": {
        "id": "LwExHLuf5hav"
      },
      "outputs": [],
      "source": [
        "model = Sequential()\n",
        "\n",
        "# Add DenseNet121 base\n",
        "model.add(pre_model)\n",
        "\n",
        "# Add new output layer with 2 units and \"softmax\" activation\n",
        "model.add(Dense(1, activation='sigmoid'))"
      ]
    },
    {
      "cell_type": "code",
      "execution_count": 16,
      "metadata": {
        "colab": {
          "base_uri": "https://localhost:8080/"
        },
        "id": "OPVUxqIN5hav",
        "outputId": "a23a61a1-46c2-4f25-dccb-a9ba0d399aca"
      },
      "outputs": [
        {
          "output_type": "stream",
          "name": "stdout",
          "text": [
            "Model: \"sequential\"\n",
            "_________________________________________________________________\n",
            " Layer (type)                Output Shape              Param #   \n",
            "=================================================================\n",
            " densenet121 (Functional)    (None, 1024)              7031232   \n",
            "                                                                 \n",
            " dense (Dense)               (None, 1)                 1025      \n",
            "                                                                 \n",
            "=================================================================\n",
            "Total params: 7,032,257\n",
            "Trainable params: 6,948,609\n",
            "Non-trainable params: 83,648\n",
            "_________________________________________________________________\n"
          ]
        }
      ],
      "source": [
        "model.summary()"
      ]
    },
    {
      "cell_type": "code",
      "execution_count": 17,
      "metadata": {
        "id": "WpQ_pyi65hav"
      },
      "outputs": [],
      "source": [
        "model.compile(loss='binary_crossentropy',\n",
        "              optimizer='adam',\n",
        "              metrics=['accuracy'])\n"
      ]
    },
    {
      "cell_type": "code",
      "execution_count": 19,
      "metadata": {
        "colab": {
          "base_uri": "https://localhost:8080/"
        },
        "id": "CFwMZmrH5haw",
        "outputId": "244e74d7-78ad-4efe-9405-f734f7a29e49"
      },
      "outputs": [
        {
          "output_type": "stream",
          "name": "stdout",
          "text": [
            "Epoch 1/10\n",
            "130/130 [==============================] - 632s 5s/step - loss: 0.2337 - accuracy: 0.9035 - val_loss: 3.8740 - val_accuracy: 0.7421\n",
            "Epoch 2/10\n",
            "130/130 [==============================] - 90s 689ms/step - loss: 0.1872 - accuracy: 0.9264 - val_loss: 6.0383 - val_accuracy: 0.7421\n",
            "Epoch 3/10\n",
            "130/130 [==============================] - 97s 740ms/step - loss: 0.1842 - accuracy: 0.9254 - val_loss: 2.3706 - val_accuracy: 0.7421\n",
            "Epoch 4/10\n",
            "130/130 [==============================] - 89s 678ms/step - loss: 0.1673 - accuracy: 0.9355 - val_loss: 0.6758 - val_accuracy: 0.7421\n",
            "Epoch 5/10\n",
            "130/130 [==============================] - 90s 691ms/step - loss: 0.1648 - accuracy: 0.9386 - val_loss: 1.4067 - val_accuracy: 0.7421\n",
            "Epoch 6/10\n",
            "130/130 [==============================] - 89s 682ms/step - loss: 0.1567 - accuracy: 0.9443 - val_loss: 1.1110 - val_accuracy: 0.7421\n",
            "Epoch 7/10\n",
            "130/130 [==============================] - 90s 688ms/step - loss: 0.1419 - accuracy: 0.9443 - val_loss: 7.3577 - val_accuracy: 0.7421\n",
            "Epoch 8/10\n",
            "130/130 [==============================] - 90s 686ms/step - loss: 0.1345 - accuracy: 0.9498 - val_loss: 0.5409 - val_accuracy: 0.7736\n",
            "Epoch 9/10\n",
            "130/130 [==============================] - 93s 713ms/step - loss: 0.1376 - accuracy: 0.9462 - val_loss: 1.6704 - val_accuracy: 0.4814\n",
            "Epoch 10/10\n",
            "130/130 [==============================] - 92s 700ms/step - loss: 0.1417 - accuracy: 0.9455 - val_loss: 1.8739 - val_accuracy: 0.7421\n"
          ]
        }
      ],
      "source": [
        "results = model.fit(ds_train,\n",
        "                        batch_size=batch,\n",
        "                        epochs=10,\n",
        "                        validation_data=ds_val,\n",
        "                        steps_per_epoch=(len(train_df)/batch),\n",
        "                        callbacks=[early_stopping], \n",
        "                        verbose=1)\n"
      ]
    }
  ],
  "metadata": {
    "colab": {
      "provenance": [],
      "include_colab_link": true
    },
    "kernelspec": {
      "display_name": "Python 3",
      "name": "python3"
    },
    "language_info": {
      "codemirror_mode": {
        "name": "ipython",
        "version": 3
      },
      "file_extension": ".py",
      "mimetype": "text/x-python",
      "name": "python",
      "nbconvert_exporter": "python",
      "pygments_lexer": "ipython3",
      "version": "3.10.7"
    },
    "accelerator": "GPU",
    "gpuClass": "standard"
  },
  "nbformat": 4,
  "nbformat_minor": 0
}