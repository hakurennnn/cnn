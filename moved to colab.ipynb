{
  "cells": [
    {
      "cell_type": "markdown",
      "metadata": {
        "id": "view-in-github",
        "colab_type": "text"
      },
      "source": [
        "<a href=\"https://colab.research.google.com/github/hakurennnn/cnn/blob/master/moved%20to%20colab.ipynb\" target=\"_parent\"><img src=\"https://colab.research.google.com/assets/colab-badge.svg\" alt=\"Open In Colab\"/></a>"
      ]
    },
    {
      "cell_type": "code",
      "execution_count": 58,
      "metadata": {
        "id": "t0X5BTUZ5haq"
      },
      "outputs": [],
      "source": [
        "import cv2\n",
        "import os"
      ]
    },
    {
      "cell_type": "code",
      "execution_count": 83,
      "metadata": {
        "id": "-OhSfWMS5har"
      },
      "outputs": [],
      "source": [
        "import numpy as np\n",
        "import pandas as pd \n",
        "import matplotlib.pyplot as plt\n",
        "import seaborn as sns\n",
        "import keras\n",
        "import tensorflow as tf\n",
        "from keras.models import Sequential\n",
        "from keras.layers import Dense, Conv2D , MaxPool2D , Flatten , Dropout , BatchNormalization\n",
        "from keras.preprocessing.image import ImageDataGenerator\n",
        "from sklearn.model_selection import train_test_split\n",
        "from sklearn.metrics import classification_report,confusion_matrix\n",
        "from tensorflow.keras.callbacks import ModelCheckpoint\n",
        "from tensorflow.keras.callbacks import EarlyStopping\n",
        "from tensorflow.keras.optimizers import Adam\n",
        "import glob\n",
        "import imageio\n",
        "from keras.applications import densenet\n",
        "from tensorflow.keras import layers"
      ]
    },
    {
      "cell_type": "code",
      "source": [
        "from google.colab import drive\n",
        "drive.mount('/content/drive')"
      ],
      "metadata": {
        "colab": {
          "base_uri": "https://localhost:8080/"
        },
        "id": "zTB1YZ115v7v",
        "outputId": "471d065e-0038-4326-a352-03802eb7c524"
      },
      "execution_count": 8,
      "outputs": [
        {
          "output_type": "stream",
          "name": "stdout",
          "text": [
            "Mounted at /content/drive\n"
          ]
        }
      ]
    },
    {
      "cell_type": "code",
      "execution_count": 100,
      "metadata": {
        "id": "HCQ3Rb5M5har"
      },
      "outputs": [],
      "source": [
        "\n",
        "## LOCAL RUN PATHS\n",
        "main_path = '/content/drive/MyDrive' #palitan ng main folder\n",
        "\n",
        "test_path = os.path.join(main_path,\"test\")\n",
        "train_path = os.path.join(main_path,\"train\")\n",
        "\n",
        "train_normal = glob.glob(train_path+\"/NORMAL/*.jpeg\")\n",
        "train_pneumonia = glob.glob(train_path+\"/PNEUMONIA/*.jpeg\")\n",
        "\n",
        "test_normal = glob.glob(test_path+\"/NORMAL/*.jpeg\")\n",
        "test_pneumonia = glob.glob(test_path+\"/PNEUMONIA/*.jpeg\")\n",
        "\n"
      ]
    },
    {
      "cell_type": "code",
      "execution_count": 101,
      "metadata": {
        "id": "LF8obHU_5has"
      },
      "outputs": [],
      "source": [
        "# combine train_normal and train_pneumonia\n",
        "train_list = train_normal + train_pneumonia\n",
        "test_list = test_normal + test_pneumonia\n",
        "\n",
        "df_train = pd.DataFrame({'class': ['Normal']*len(train_normal) + ['Pneumonia']*len(train_pneumonia),\n",
        "                         'image': train_list})\n",
        "\n",
        "df_test = pd.DataFrame({'class': ['Normal']*len(test_normal) + ['Pneumonia']*len(test_pneumonia),\n",
        "                        'image': test_list})\n"
      ]
    },
    {
      "cell_type": "code",
      "source": [
        "class_count = df_test['class'].value_counts()\n",
        "print(class_count)"
      ],
      "metadata": {
        "colab": {
          "base_uri": "https://localhost:8080/"
        },
        "id": "ezrqRI4B7rMN",
        "outputId": "c57c90fd-0b0b-416f-884d-af890788a822"
      },
      "execution_count": 102,
      "outputs": [
        {
          "output_type": "stream",
          "name": "stdout",
          "text": [
            "Pneumonia    390\n",
            "Normal       234\n",
            "Name: class, dtype: int64\n"
          ]
        }
      ]
    },
    {
      "cell_type": "code",
      "execution_count": 103,
      "metadata": {
        "colab": {
          "base_uri": "https://localhost:8080/"
        },
        "id": "FG7AJ82y5has",
        "outputId": "3902bf99-f77f-4f3e-f889-06978c9cc107"
      },
      "outputs": [
        {
          "output_type": "stream",
          "name": "stdout",
          "text": [
            "          class                                              image\n",
            "0        Normal  /content/drive/MyDrive/train/NORMAL/NORMAL-324...\n",
            "1        Normal  /content/drive/MyDrive/train/NORMAL/NORMAL-337...\n",
            "2        Normal  /content/drive/MyDrive/train/NORMAL/NORMAL-327...\n",
            "3        Normal  /content/drive/MyDrive/train/NORMAL/NORMAL-337...\n",
            "4        Normal  /content/drive/MyDrive/train/NORMAL/NORMAL-352...\n",
            "...         ...                                                ...\n",
            "5227  Pneumonia  /content/drive/MyDrive/train/PNEUMONIA/BACTERI...\n",
            "5228  Pneumonia  /content/drive/MyDrive/train/PNEUMONIA/BACTERI...\n",
            "5229  Pneumonia  /content/drive/MyDrive/train/PNEUMONIA/BACTERI...\n",
            "5230  Pneumonia  /content/drive/MyDrive/train/PNEUMONIA/BACTERI...\n",
            "5231  Pneumonia  /content/drive/MyDrive/train/PNEUMONIA/BACTERI...\n",
            "\n",
            "[5232 rows x 2 columns]\n"
          ]
        }
      ],
      "source": [
        "print(df_train)"
      ]
    },
    {
      "cell_type": "code",
      "execution_count": 104,
      "metadata": {
        "colab": {
          "base_uri": "https://localhost:8080/"
        },
        "id": "TPV-cdT25hat",
        "outputId": "c77cf3f0-cb3b-43d2-d748-bff295e97db6"
      },
      "outputs": [
        {
          "output_type": "stream",
          "name": "stdout",
          "text": [
            "         class                                              image\n",
            "0       Normal  /content/drive/MyDrive/test/NORMAL/NORMAL-1141...\n",
            "1       Normal  /content/drive/MyDrive/test/NORMAL/NORMAL-1110...\n",
            "2       Normal  /content/drive/MyDrive/test/NORMAL/NORMAL-1160...\n",
            "3       Normal  /content/drive/MyDrive/test/NORMAL/NORMAL-1152...\n",
            "4       Normal  /content/drive/MyDrive/test/NORMAL/NORMAL-1212...\n",
            "..         ...                                                ...\n",
            "619  Pneumonia  /content/drive/MyDrive/test/PNEUMONIA/VIRUS-84...\n",
            "620  Pneumonia  /content/drive/MyDrive/test/PNEUMONIA/VIRUS-90...\n",
            "621  Pneumonia  /content/drive/MyDrive/test/PNEUMONIA/VIRUS-95...\n",
            "622  Pneumonia  /content/drive/MyDrive/test/PNEUMONIA/VIRUS-95...\n",
            "623  Pneumonia  /content/drive/MyDrive/test/PNEUMONIA/VIRUS-90...\n",
            "\n",
            "[624 rows x 2 columns]\n"
          ]
        }
      ],
      "source": [
        "print(df_test)"
      ]
    },
    {
      "cell_type": "markdown",
      "metadata": {
        "id": "HvYU4TQl5hat"
      },
      "source": [
        "# Creating the model"
      ]
    },
    {
      "cell_type": "code",
      "execution_count": 105,
      "metadata": {
        "id": "YDMH9Sdu5hat"
      },
      "outputs": [],
      "source": [
        "# Create validation set\n",
        "train_df, val_df = train_test_split(df_train, test_size = 0.20, random_state = 32, stratify = df_train['class'])"
      ]
    },
    {
      "cell_type": "code",
      "execution_count": 106,
      "metadata": {
        "id": "czguMeGj5hat"
      },
      "outputs": [],
      "source": [
        "batch = 32\n",
        "img_size = 224"
      ]
    },
    {
      "cell_type": "code",
      "execution_count": 107,
      "metadata": {
        "colab": {
          "base_uri": "https://localhost:8080/"
        },
        "id": "Ro6210nQ5hau",
        "outputId": "457f8a03-5ac6-45a6-d91b-00d639361be0"
      },
      "outputs": [
        {
          "output_type": "stream",
          "name": "stdout",
          "text": [
            "Found 4185 validated image filenames belonging to 2 classes.\n",
            "Found 1047 validated image filenames belonging to 2 classes.\n",
            "Found 624 validated image filenames belonging to 2 classes.\n"
          ]
        }
      ],
      "source": [
        "train_gen = ImageDataGenerator(rescale = 1./255,\n",
        "                               shear_range = 0.2,\n",
        "                               zoom_range = 0.2,\n",
        "                               vertical_flip = True)\n",
        "\n",
        "val_gen = ImageDataGenerator(rescale=1/255)\n",
        "\n",
        "ds_train = train_gen.flow_from_dataframe(train_df,\n",
        "                                             x_col = 'image',\n",
        "                                             y_col = 'class',\n",
        "                                             target_size = (img_size, img_size),\n",
        "                                             batch_size = batch,\n",
        "                                             class_mode = 'binary',\n",
        "                                             color_mode = 'grayscale'\n",
        "                                             )\n",
        "\n",
        "ds_val = val_gen.flow_from_dataframe(val_df,\n",
        "                                            #directory=train_path,\n",
        "                                            x_col = 'image',\n",
        "                                            y_col = 'class',\n",
        "                                            target_size = (img_size, img_size),\n",
        "                                            batch_size = batch,\n",
        "                                            class_mode = 'binary',\n",
        "                                            color_mode = 'grayscale')\n",
        "\n",
        "ds_test = val_gen.flow_from_dataframe(df_test,\n",
        "                                       x_col='image',\n",
        "                                       y_col='class',\n",
        "                                       target_size=(img_size, img_size),\n",
        "                                       batch_size=batch,\n",
        "                                       class_mode='binary',\n",
        "                                       color_mode='grayscale')"
      ]
    },
    {
      "cell_type": "code",
      "execution_count": 108,
      "metadata": {
        "id": "FoqmNixl5hav"
      },
      "outputs": [],
      "source": [
        "# Define early stopping\n",
        "early_stopping = EarlyStopping(monitor='val_loss', patience=10, verbose=1, mode='auto', restore_best_weights=True)"
      ]
    },
    {
      "cell_type": "code",
      "execution_count": 109,
      "metadata": {
        "id": "89YWwgqU5hav"
      },
      "outputs": [],
      "source": [
        "def predict_image(model, img_path, preprocess_input_fn, decode_predictions_fn, target_size=(img_size,img_size)):\n",
        "\n",
        "    img = tensorflow.keras.utils.load_img(img_path, target_size=target_size)\n",
        "    x = tensorflow.keras.utils.img_to_array(img)\n",
        "    x = np.expand_dims(x, axis=0)\n",
        "    x = preprocess_input_fn(x)\n",
        "    \n",
        "    preds = model.predict(x)\n",
        "    predictions_df = pd.DataFrame(decode_predictions_fn(preds, top=10)[0])\n",
        "    predictions_df.columns = [\"Predicted Class\", \"Name\", \"Probability\"]\n",
        "    return predictions_df"
      ]
    },
    {
      "cell_type": "code",
      "execution_count": 110,
      "metadata": {
        "id": "2g7X2ekn5hav"
      },
      "outputs": [],
      "source": [
        "pre_model = densenet.DenseNet121(weights=None,\n",
        "                                 include_top=False,\n",
        "                                 input_shape=(img_size, img_size, 1),\n",
        "                                 pooling='avg'\n",
        "                                )"
      ]
    },
    {
      "cell_type": "code",
      "execution_count": 111,
      "metadata": {
        "id": "LwExHLuf5hav"
      },
      "outputs": [],
      "source": [
        "model = Sequential()\n",
        "\n",
        "# Add DenseNet121 base\n",
        "model.add(pre_model)\n",
        "\n",
        "# Add new output layer with 2 units and \"softmax\" activation\n",
        "model.add(Dense(1, activation='sigmoid'))"
      ]
    },
    {
      "cell_type": "code",
      "execution_count": 112,
      "metadata": {
        "colab": {
          "base_uri": "https://localhost:8080/"
        },
        "id": "OPVUxqIN5hav",
        "outputId": "72237700-ed7e-4650-eb9e-18477ab5221f"
      },
      "outputs": [
        {
          "output_type": "stream",
          "name": "stdout",
          "text": [
            "Model: \"sequential_1\"\n",
            "_________________________________________________________________\n",
            " Layer (type)                Output Shape              Param #   \n",
            "=================================================================\n",
            " densenet121 (Functional)    (None, 1024)              7031232   \n",
            "                                                                 \n",
            " dense_1 (Dense)             (None, 1)                 1025      \n",
            "                                                                 \n",
            "=================================================================\n",
            "Total params: 7,032,257\n",
            "Trainable params: 6,948,609\n",
            "Non-trainable params: 83,648\n",
            "_________________________________________________________________\n"
          ]
        }
      ],
      "source": [
        "model.summary()"
      ]
    },
    {
      "cell_type": "code",
      "execution_count": 113,
      "metadata": {
        "id": "WpQ_pyi65hav"
      },
      "outputs": [],
      "source": [
        "model.compile(loss='binary_crossentropy',\n",
        "              optimizer='adam',\n",
        "              metrics=['accuracy'])\n"
      ]
    },
    {
      "cell_type": "code",
      "execution_count": null,
      "metadata": {
        "colab": {
          "base_uri": "https://localhost:8080/"
        },
        "id": "CFwMZmrH5haw",
        "outputId": "e134779a-560a-40eb-e160-01e436b66b5b"
      },
      "outputs": [
        {
          "output_type": "stream",
          "name": "stdout",
          "text": [
            "Epoch 1/50\n",
            "  4/130 [..............................] - ETA: 47:28 - loss: 0.6203 - accuracy: 0.7521"
          ]
        }
      ],
      "source": [
        "results = model.fit(ds_train,\n",
        "                        batch_size=batch,\n",
        "                        epochs=50,\n",
        "                        validation_data=ds_val,\n",
        "                        steps_per_epoch=(len(train_df)/batch),\n",
        "                        callbacks=[early_stopping], \n",
        "                        verbose=1)\n"
      ]
    }
  ],
  "metadata": {
    "colab": {
      "provenance": [],
      "include_colab_link": true
    },
    "kernelspec": {
      "display_name": "Python 3",
      "name": "python3"
    },
    "language_info": {
      "codemirror_mode": {
        "name": "ipython",
        "version": 3
      },
      "file_extension": ".py",
      "mimetype": "text/x-python",
      "name": "python",
      "nbconvert_exporter": "python",
      "pygments_lexer": "ipython3",
      "version": "3.10.7"
    }
  },
  "nbformat": 4,
  "nbformat_minor": 0
}